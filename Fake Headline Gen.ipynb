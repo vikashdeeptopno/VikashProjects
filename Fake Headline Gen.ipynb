{
 "cells": [
  {
   "cell_type": "code",
   "execution_count": 1,
   "id": "62890278-d8ae-463c-b9d7-a31a85d26719",
   "metadata": {},
   "outputs": [],
   "source": [
    "#import random module\n",
    "import random"
   ]
  },
  {
   "cell_type": "code",
   "execution_count": 2,
   "id": "1e3c5e11-e09f-4ab6-a86e-6bc9701f2ad8",
   "metadata": {},
   "outputs": [],
   "source": [
    "# Creat subjects, actions and subjects\n",
    "\n",
    "subjects = [\n",
    "    \"Chicken\",\n",
    "    \"NASA\",\n",
    "    \"Local Cat\",\n",
    "    \"New Study\",\n",
    "    \"Aliens\",\n",
    "    \"Monkeys\",\n",
    "    \"Scientists\"\n",
    "]\n",
    "\n",
    "actions = [\n",
    "    \"Crosses Road,\",\n",
    "    \"Accidentally Launches\",\n",
    "    \"Declares Itself Mayor\",\n",
    "    \"Finds 90% of Life Problems\",\n",
    "    \"Return to Earth in\",\n",
    "    \"Invent BananaCoin,\",\n",
    "    \"Confirm Moon\"\n",
    "]\n",
    "\n",
    "places_of_things = [\n",
    "    \" Sues Google Maps for Misleading Directions\",\n",
    "    \"Pizza Delivery Rocket to Jupiter\",\n",
    "    \"Demands More Naps and Tuna Taxes\",\n",
    "    \"Can Be Solved with Pizza\",\n",
    "    \"Demand Refund for Their Netflix Subscription\",\n",
    "    \"Crash Global Crypto Market\",\n",
    "    \"is Actually Made of Cheese, Mice Rejoice\"\n",
    "]\n",
    "\n"
   ]
  },
  {
   "cell_type": "code",
   "execution_count": 5,
   "id": "f4bd8d25-099f-4ad7-b4bc-8dd4fcb59d6f",
   "metadata": {},
   "outputs": [
    {
     "name": "stdout",
     "output_type": "stream",
     "text": [
      "\n",
      "BREAKING NEWS: A Mumbai Cat launches inside Parliament\n",
      "\n",
      "BREAKING NEWS: A Mumbai Cat orders at India Gate\n",
      "\n",
      " Thanks for using Fake News Generator. Have a good day\n"
     ]
    }
   ],
   "source": [
    "# Start lopps regarding headline generator\n",
    "\n",
    "while True:\n",
    "    subject = random.choice(subjects)\n",
    "    action = random.choice(actions)\n",
    "    place_of_thing = random.choice(places_of_things)\n",
    "\n",
    "    headline = f\"BREAKING NEWS: {subject} {action} {place_of_thing}\"\n",
    "    print(\"\\n\" + headline)\n",
    "    user_input = input(\"\\n Do you want another headline? (yes/no)\").strip().lower()\n",
    "\n",
    "    if user_input == \"no\":\n",
    "        break\n",
    "\n",
    "# Goodbye message\n",
    "\n",
    "print(\"\\n Thanks for using Fake News Generator. Have a good day\")\n",
    "        "
   ]
  }
 ],
 "metadata": {
  "kernelspec": {
   "display_name": ".venv",
   "language": "python",
   "name": "python3"
  },
  "language_info": {
   "codemirror_mode": {
    "name": "ipython",
    "version": 3
   },
   "file_extension": ".py",
   "mimetype": "text/x-python",
   "name": "python",
   "nbconvert_exporter": "python",
   "pygments_lexer": "ipython3",
   "version": "3.13.6"
  }
 },
 "nbformat": 4,
 "nbformat_minor": 5
}
