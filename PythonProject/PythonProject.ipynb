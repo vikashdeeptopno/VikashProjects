{
 "cells": [
  {
   "cell_type": "markdown",
   "id": "959ce89d",
   "metadata": {},
   "source": [
    "# Combating Social Media Addiction with Data-Driven Insights"
   ]
  },
  {
   "cell_type": "markdown",
   "id": "94591476",
   "metadata": {},
   "source": [
    "This is a notebook to analyze how social media platforms that have become integral to our daily lives, especially for students can impact mental health, sleep, productivity, and overall well-being if it's overused."
   ]
  },
  {
   "cell_type": "code",
   "execution_count": 1,
   "id": "59afd499",
   "metadata": {},
   "outputs": [],
   "source": [
    "# Importing the necessary libraries\n",
    "import numpy as np\n",
    "import pandas as pd\n",
    "import matplotlib.pyplot as plt\n",
    "import seaborn as sns"
   ]
  },
  {
   "cell_type": "markdown",
   "id": "1694f9c0",
   "metadata": {},
   "source": [
    "## Data Loading and initial Exploratory Analysis"
   ]
  },
  {
   "cell_type": "code",
   "execution_count": 3,
   "id": "4ed0353f",
   "metadata": {},
   "outputs": [
    {
     "name": "stdout",
     "output_type": "stream",
     "text": [
      "<class 'pandas.core.frame.DataFrame'>\n",
      "RangeIndex: 705 entries, 0 to 704\n",
      "Data columns (total 13 columns):\n",
      " #   Column                        Non-Null Count  Dtype  \n",
      "---  ------                        --------------  -----  \n",
      " 0   Student_ID                    705 non-null    int64  \n",
      " 1   Age                           705 non-null    int64  \n",
      " 2   Gender                        705 non-null    object \n",
      " 3   Academic_Level                705 non-null    object \n",
      " 4   Country                       705 non-null    object \n",
      " 5   Avg_Daily_Usage_Hours         705 non-null    float64\n",
      " 6   Most_Used_Platform            705 non-null    object \n",
      " 7   Affects_Academic_Performance  705 non-null    object \n",
      " 8   Sleep_Hours_Per_Night         705 non-null    float64\n",
      " 9   Mental_Health_Score           705 non-null    int64  \n",
      " 10  Relationship_Status           705 non-null    object \n",
      " 11  Conflicts_Over_Social_Media   705 non-null    int64  \n",
      " 12  Addicted_Score                705 non-null    int64  \n",
      "dtypes: float64(2), int64(5), object(6)\n",
      "memory usage: 71.7+ KB\n",
      "None\n"
     ]
    },
    {
     "data": {
      "text/plain": [
       "Student_ID                      0\n",
       "Age                             0\n",
       "Gender                          0\n",
       "Academic_Level                  0\n",
       "Country                         0\n",
       "Avg_Daily_Usage_Hours           0\n",
       "Most_Used_Platform              0\n",
       "Affects_Academic_Performance    0\n",
       "Sleep_Hours_Per_Night           0\n",
       "Mental_Health_Score             0\n",
       "Relationship_Status             0\n",
       "Conflicts_Over_Social_Media     0\n",
       "Addicted_Score                  0\n",
       "dtype: int64"
      ]
     },
     "execution_count": 3,
     "metadata": {},
     "output_type": "execute_result"
    }
   ],
   "source": [
    "# Loading the dataset\n",
    "df = pd.read_csv('Students Social Media Addiction (1).csv')\n",
    "print(df.info())\n",
    "df.head()\n",
    "\n",
    "# Checking for missing values\n",
    "df.isnull().sum()"
   ]
  },
  {
   "cell_type": "markdown",
   "id": "91915815",
   "metadata": {},
   "source": [
    "## Adding meaningful new columns"
   ]
  },
  {
   "cell_type": "code",
   "execution_count": 10,
   "id": "02596b09",
   "metadata": {},
   "outputs": [
    {
     "data": {
      "text/html": [
       "<div>\n",
       "<style scoped>\n",
       "    .dataframe tbody tr th:only-of-type {\n",
       "        vertical-align: middle;\n",
       "    }\n",
       "\n",
       "    .dataframe tbody tr th {\n",
       "        vertical-align: top;\n",
       "    }\n",
       "\n",
       "    .dataframe thead th {\n",
       "        text-align: right;\n",
       "    }\n",
       "</style>\n",
       "<table border=\"1\" class=\"dataframe\">\n",
       "  <thead>\n",
       "    <tr style=\"text-align: right;\">\n",
       "      <th></th>\n",
       "      <th>Student_ID</th>\n",
       "      <th>Age</th>\n",
       "      <th>Gender</th>\n",
       "      <th>Academic_Level</th>\n",
       "      <th>Country</th>\n",
       "      <th>Avg_Daily_Usage_Hours</th>\n",
       "      <th>Most_Used_Platform</th>\n",
       "      <th>Affects_Academic_Performance</th>\n",
       "      <th>Sleep_Hours_Per_Night</th>\n",
       "      <th>Mental_Health_Score</th>\n",
       "      <th>Relationship_Status</th>\n",
       "      <th>Conflicts_Over_Social_Media</th>\n",
       "      <th>Addicted_Score</th>\n",
       "      <th>Age Group</th>\n",
       "      <th>risk_level</th>\n",
       "      <th>addiction_category</th>\n",
       "    </tr>\n",
       "  </thead>\n",
       "  <tbody>\n",
       "    <tr>\n",
       "      <th>0</th>\n",
       "      <td>1</td>\n",
       "      <td>19</td>\n",
       "      <td>Female</td>\n",
       "      <td>Undergraduate</td>\n",
       "      <td>Bangladesh</td>\n",
       "      <td>5.2</td>\n",
       "      <td>Instagram</td>\n",
       "      <td>Yes</td>\n",
       "      <td>6.5</td>\n",
       "      <td>6</td>\n",
       "      <td>In Relationship</td>\n",
       "      <td>3</td>\n",
       "      <td>8</td>\n",
       "      <td>18 - 20</td>\n",
       "      <td>High Risk</td>\n",
       "      <td>Moderate</td>\n",
       "    </tr>\n",
       "    <tr>\n",
       "      <th>1</th>\n",
       "      <td>2</td>\n",
       "      <td>22</td>\n",
       "      <td>Male</td>\n",
       "      <td>Graduate</td>\n",
       "      <td>India</td>\n",
       "      <td>2.1</td>\n",
       "      <td>Twitter</td>\n",
       "      <td>No</td>\n",
       "      <td>7.5</td>\n",
       "      <td>8</td>\n",
       "      <td>Single</td>\n",
       "      <td>0</td>\n",
       "      <td>3</td>\n",
       "      <td>21 - 22</td>\n",
       "      <td>Moderate Risk</td>\n",
       "      <td>Low</td>\n",
       "    </tr>\n",
       "    <tr>\n",
       "      <th>2</th>\n",
       "      <td>3</td>\n",
       "      <td>20</td>\n",
       "      <td>Female</td>\n",
       "      <td>Undergraduate</td>\n",
       "      <td>USA</td>\n",
       "      <td>6.0</td>\n",
       "      <td>TikTok</td>\n",
       "      <td>Yes</td>\n",
       "      <td>5.0</td>\n",
       "      <td>5</td>\n",
       "      <td>Complicated</td>\n",
       "      <td>4</td>\n",
       "      <td>9</td>\n",
       "      <td>18 - 20</td>\n",
       "      <td>High Risk</td>\n",
       "      <td>High</td>\n",
       "    </tr>\n",
       "    <tr>\n",
       "      <th>3</th>\n",
       "      <td>4</td>\n",
       "      <td>18</td>\n",
       "      <td>Male</td>\n",
       "      <td>High School</td>\n",
       "      <td>UK</td>\n",
       "      <td>3.0</td>\n",
       "      <td>YouTube</td>\n",
       "      <td>No</td>\n",
       "      <td>7.0</td>\n",
       "      <td>7</td>\n",
       "      <td>Single</td>\n",
       "      <td>1</td>\n",
       "      <td>4</td>\n",
       "      <td>18 - 20</td>\n",
       "      <td>Moderate Risk</td>\n",
       "      <td>Low</td>\n",
       "    </tr>\n",
       "    <tr>\n",
       "      <th>4</th>\n",
       "      <td>5</td>\n",
       "      <td>21</td>\n",
       "      <td>Male</td>\n",
       "      <td>Graduate</td>\n",
       "      <td>Canada</td>\n",
       "      <td>4.5</td>\n",
       "      <td>Facebook</td>\n",
       "      <td>Yes</td>\n",
       "      <td>6.0</td>\n",
       "      <td>6</td>\n",
       "      <td>In Relationship</td>\n",
       "      <td>2</td>\n",
       "      <td>7</td>\n",
       "      <td>21 - 22</td>\n",
       "      <td>Moderate Risk</td>\n",
       "      <td>Moderate</td>\n",
       "    </tr>\n",
       "    <tr>\n",
       "      <th>5</th>\n",
       "      <td>6</td>\n",
       "      <td>19</td>\n",
       "      <td>Female</td>\n",
       "      <td>Undergraduate</td>\n",
       "      <td>Australia</td>\n",
       "      <td>7.2</td>\n",
       "      <td>Instagram</td>\n",
       "      <td>Yes</td>\n",
       "      <td>4.5</td>\n",
       "      <td>4</td>\n",
       "      <td>Complicated</td>\n",
       "      <td>5</td>\n",
       "      <td>9</td>\n",
       "      <td>18 - 20</td>\n",
       "      <td>High Risk</td>\n",
       "      <td>High</td>\n",
       "    </tr>\n",
       "    <tr>\n",
       "      <th>6</th>\n",
       "      <td>7</td>\n",
       "      <td>23</td>\n",
       "      <td>Male</td>\n",
       "      <td>Graduate</td>\n",
       "      <td>Germany</td>\n",
       "      <td>1.5</td>\n",
       "      <td>LinkedIn</td>\n",
       "      <td>No</td>\n",
       "      <td>8.0</td>\n",
       "      <td>9</td>\n",
       "      <td>Single</td>\n",
       "      <td>0</td>\n",
       "      <td>2</td>\n",
       "      <td>23 - 24</td>\n",
       "      <td>Low Risk</td>\n",
       "      <td>Low</td>\n",
       "    </tr>\n",
       "    <tr>\n",
       "      <th>7</th>\n",
       "      <td>8</td>\n",
       "      <td>20</td>\n",
       "      <td>Female</td>\n",
       "      <td>Undergraduate</td>\n",
       "      <td>Brazil</td>\n",
       "      <td>5.8</td>\n",
       "      <td>Snapchat</td>\n",
       "      <td>Yes</td>\n",
       "      <td>6.0</td>\n",
       "      <td>6</td>\n",
       "      <td>In Relationship</td>\n",
       "      <td>2</td>\n",
       "      <td>8</td>\n",
       "      <td>18 - 20</td>\n",
       "      <td>High Risk</td>\n",
       "      <td>Moderate</td>\n",
       "    </tr>\n",
       "    <tr>\n",
       "      <th>8</th>\n",
       "      <td>9</td>\n",
       "      <td>18</td>\n",
       "      <td>Male</td>\n",
       "      <td>High School</td>\n",
       "      <td>Japan</td>\n",
       "      <td>4.0</td>\n",
       "      <td>TikTok</td>\n",
       "      <td>No</td>\n",
       "      <td>6.5</td>\n",
       "      <td>7</td>\n",
       "      <td>Single</td>\n",
       "      <td>1</td>\n",
       "      <td>5</td>\n",
       "      <td>18 - 20</td>\n",
       "      <td>Moderate Risk</td>\n",
       "      <td>Moderate</td>\n",
       "    </tr>\n",
       "    <tr>\n",
       "      <th>9</th>\n",
       "      <td>10</td>\n",
       "      <td>21</td>\n",
       "      <td>Female</td>\n",
       "      <td>Graduate</td>\n",
       "      <td>South Korea</td>\n",
       "      <td>3.3</td>\n",
       "      <td>Instagram</td>\n",
       "      <td>No</td>\n",
       "      <td>7.0</td>\n",
       "      <td>7</td>\n",
       "      <td>In Relationship</td>\n",
       "      <td>1</td>\n",
       "      <td>4</td>\n",
       "      <td>21 - 22</td>\n",
       "      <td>Moderate Risk</td>\n",
       "      <td>Low</td>\n",
       "    </tr>\n",
       "  </tbody>\n",
       "</table>\n",
       "</div>"
      ],
      "text/plain": [
       "   Student_ID  Age  Gender Academic_Level      Country  Avg_Daily_Usage_Hours  \\\n",
       "0           1   19  Female  Undergraduate   Bangladesh                    5.2   \n",
       "1           2   22    Male       Graduate        India                    2.1   \n",
       "2           3   20  Female  Undergraduate          USA                    6.0   \n",
       "3           4   18    Male    High School           UK                    3.0   \n",
       "4           5   21    Male       Graduate       Canada                    4.5   \n",
       "5           6   19  Female  Undergraduate    Australia                    7.2   \n",
       "6           7   23    Male       Graduate      Germany                    1.5   \n",
       "7           8   20  Female  Undergraduate       Brazil                    5.8   \n",
       "8           9   18    Male    High School        Japan                    4.0   \n",
       "9          10   21  Female       Graduate  South Korea                    3.3   \n",
       "\n",
       "  Most_Used_Platform Affects_Academic_Performance  Sleep_Hours_Per_Night  \\\n",
       "0          Instagram                          Yes                    6.5   \n",
       "1            Twitter                           No                    7.5   \n",
       "2             TikTok                          Yes                    5.0   \n",
       "3            YouTube                           No                    7.0   \n",
       "4           Facebook                          Yes                    6.0   \n",
       "5          Instagram                          Yes                    4.5   \n",
       "6           LinkedIn                           No                    8.0   \n",
       "7           Snapchat                          Yes                    6.0   \n",
       "8             TikTok                           No                    6.5   \n",
       "9          Instagram                           No                    7.0   \n",
       "\n",
       "   Mental_Health_Score Relationship_Status  Conflicts_Over_Social_Media  \\\n",
       "0                    6     In Relationship                            3   \n",
       "1                    8              Single                            0   \n",
       "2                    5         Complicated                            4   \n",
       "3                    7              Single                            1   \n",
       "4                    6     In Relationship                            2   \n",
       "5                    4         Complicated                            5   \n",
       "6                    9              Single                            0   \n",
       "7                    6     In Relationship                            2   \n",
       "8                    7              Single                            1   \n",
       "9                    7     In Relationship                            1   \n",
       "\n",
       "   Addicted_Score Age Group     risk_level addiction_category  \n",
       "0               8   18 - 20      High Risk           Moderate  \n",
       "1               3   21 - 22  Moderate Risk                Low  \n",
       "2               9   18 - 20      High Risk               High  \n",
       "3               4   18 - 20  Moderate Risk                Low  \n",
       "4               7   21 - 22  Moderate Risk           Moderate  \n",
       "5               9   18 - 20      High Risk               High  \n",
       "6               2   23 - 24       Low Risk                Low  \n",
       "7               8   18 - 20      High Risk           Moderate  \n",
       "8               5   18 - 20  Moderate Risk           Moderate  \n",
       "9               4   21 - 22  Moderate Risk                Low  "
      ]
     },
     "execution_count": 10,
     "metadata": {},
     "output_type": "execute_result"
    }
   ],
   "source": [
    "#Adding New Colums - Age Groups\n",
    "\n",
    "df['Age Group'] = pd.cut(\n",
    "    df['Age'],\n",
    "    bins = [18, 20, 22, 24, 26, 28],\n",
    "    labels = [\"18 - 20\", \"21 - 22\", \"23 - 24\", \"25 - 26\", \"27 - 28\"],\n",
    "    include_lowest = True\n",
    ")\n",
    "\n",
    "#Risk Levels as per daily usage\n",
    "\n",
    "def classify_risk(hours):\n",
    "    if pd.isna(hours):\n",
    "        return \"Unknown\"\n",
    "    if hours < 2:\n",
    "        return \"Low Risk\"\n",
    "    elif hours < 5:\n",
    "        return \"Moderate Risk\"\n",
    "    else:\n",
    "        return \"High Risk\"\n",
    "\n",
    "df['risk_level'] = df['Avg_Daily_Usage_Hours'].apply(classify_risk)\n",
    "\n",
    "#Addiction category\n",
    "\n",
    "def addiction_category(s):\n",
    "    if s >= 8:\n",
    "        return \"Severe\"\n",
    "    if s >= 6:\n",
    "        return \"High\"\n",
    "    if s >= 4:\n",
    "        return \"Moderate\"\n",
    "    return \"Low\"\n",
    "\n",
    "df[\"addiction_category\"] = df[\"Avg_Daily_Usage_Hours\"].apply(addiction_category)\n",
    "\n",
    "#Displaying the first few columns after adding new columns\n",
    "df.head(10)\n",
    "    \n"
   ]
  },
  {
   "cell_type": "markdown",
   "id": "b524a5b9",
   "metadata": {},
   "source": [
    "## Exploratory Data Analysis (EDA)"
   ]
  },
  {
   "cell_type": "code",
   "execution_count": 10,
   "id": "67aff87d",
   "metadata": {},
   "outputs": [
    {
     "data": {
      "image/png": "[encoded data removed]",
      "text/plain": [
       "<Figure size 640x480 with 1 Axes>"
      ]
     },
     "metadata": {},
     "output_type": "display_data"
    }
   ],
   "source": [
    "# Bar Chart for usage by different Age Group\n",
    "grp = df.groupby(\"Age Group\", observed = False)[\"Avg_Daily_Usage_Hours\"].mean()\n",
    "grp.plot(kind = \"bar\", title = \"Average Daily Usage by Age Group in Hours\")\n",
    "plt.ylabel(\"Hours per Day\")\n",
    "plt.show()\n"
   ]
  },
  {
   "cell_type": "markdown",
   "id": "a3b641bd",
   "metadata": {},
   "source": [
    "- The Chart highlights that the Teens (18 years to 20 years) and Young Adults (21 years to 24 years) are the highest users of Social Media, with the age group of 16 to 20 years the highest usage per day, suggesting Youths having the most of the screen times."
   ]
  },
  {
   "cell_type": "code",
   "execution_count": 11,
   "id": "daceb8f6",
   "metadata": {},
   "outputs": [
    {
     "data": {
      "image/png": "[encoded data removed]",
      "text/plain": [
       "<Figure size 640x480 with 1 Axes>"
      ]
     },
     "metadata": {},
     "output_type": "display_data"
    }
   ],
   "source": [
    "# Pie Chart for Risk Levels\n",
    "df[\"risk_level\"].value_counts().plot(kind = \"pie\", title = \"Risk Levels Distribution\", autopct = \"%1.1f%%\")\n",
    "plt.ylabel(\"\")\n",
    "plt.show()"
   ]
  },
  {
   "cell_type": "markdown",
   "id": "eb9ed838",
   "metadata": {},
   "source": [
    "- The Pie Chart highlights that most people fall into **Moderate Risk (56.2%)** and **High Risk (43.7%)** Categories and almost next to none falls in Low Risk Category. It suggests that overall risks are concerning and very few students maintain a Low Risk Profile."
   ]
  },
  {
   "cell_type": "code",
   "execution_count": 12,
   "id": "ff881adb",
   "metadata": {},
   "outputs": [
    {
     "data": {
      "image/png": "[encoded data removed]",
      "text/plain": [
       "<Figure size 640x480 with 1 Axes>"
      ]
     },
     "metadata": {},
     "output_type": "display_data"
    }
   ],
   "source": [
    "# Line Chart to see how usage is affecting Mental Health\n",
    "df[\"usage\"] = pd.cut(df[\"Avg_Daily_Usage_Hours\"], bins = [0, 2, 4, 6, 8, 10, 12])\n",
    "trend = df.groupby(\"usage\", observed = False)[\"Mental_Health_Score\"].mean()\n",
    "trend.plot(kind = \"line\", marker = \"o\", title = \"Mental Health Score vs. Daily Usage\")\n",
    "plt.ylabel(\"Avg Mental Health Score\")\n",
    "plt.xlabel(\"Avg Daily Usage in Hours\")\n",
    "plt.show()"
   ]
  },
  {
   "cell_type": "markdown",
   "id": "5ca1a621",
   "metadata": {},
   "source": [
    "- The chart shows that **higher daily usage is linked with lower mental health score.** People using Social Media for **0 to 2 hours** a day report the **best** mental health score, while those who cross the **6 hours** usage, a **sharp drop** in mental health scor is **observed**. However it is interesting to point it out that **after 8 hours of usage the decline slows down.**"
   ]
  },
  {
   "cell_type": "code",
   "execution_count": 13,
   "id": "5d0b3838",
   "metadata": {},
   "outputs": [
    {
     "data": {
      "text/html": [
       "<style type=\"text/css\">\n",
       "#T_494d5_row0_col0, #T_494d5_row1_col1, #T_494d5_row2_col2, #T_494d5_row3_col3, #T_494d5_row4_col4 {\n",
       "  background-color: #b40426;\n",
       "  color: #f1f1f1;\n",
       "}\n",
       "#T_494d5_row0_col1, #T_494d5_row2_col0, #T_494d5_row2_col3, #T_494d5_row2_col4, #T_494d5_row3_col2 {\n",
       "  background-color: #3b4cc0;\n",
       "  color: #f1f1f1;\n",
       "}\n",
       "#T_494d5_row0_col2 {\n",
       "  background-color: #506bda;\n",
       "  color: #f1f1f1;\n",
       "}\n",
       "#T_494d5_row0_col3 {\n",
       "  background-color: #d24b40;\n",
       "  color: #f1f1f1;\n",
       "}\n",
       "#T_494d5_row0_col4 {\n",
       "  background-color: #d75445;\n",
       "  color: #f1f1f1;\n",
       "}\n",
       "#T_494d5_row1_col0 {\n",
       "  background-color: #3c4ec2;\n",
       "  color: #f1f1f1;\n",
       "}\n",
       "#T_494d5_row1_col2 {\n",
       "  background-color: #e36c55;\n",
       "  color: #f1f1f1;\n",
       "}\n",
       "#T_494d5_row1_col3 {\n",
       "  background-color: #5673e0;\n",
       "  color: #f1f1f1;\n",
       "}\n",
       "#T_494d5_row1_col4 {\n",
       "  background-color: #5e7de7;\n",
       "  color: #f1f1f1;\n",
       "}\n",
       "#T_494d5_row2_col1 {\n",
       "  background-color: #e67259;\n",
       "  color: #f1f1f1;\n",
       "}\n",
       "#T_494d5_row3_col0 {\n",
       "  background-color: #d44e41;\n",
       "  color: #f1f1f1;\n",
       "}\n",
       "#T_494d5_row3_col1 {\n",
       "  background-color: #3e51c5;\n",
       "  color: #f1f1f1;\n",
       "}\n",
       "#T_494d5_row3_col4, #T_494d5_row4_col3 {\n",
       "  background-color: #c0282f;\n",
       "  color: #f1f1f1;\n",
       "}\n",
       "#T_494d5_row4_col0 {\n",
       "  background-color: #d85646;\n",
       "  color: #f1f1f1;\n",
       "}\n",
       "#T_494d5_row4_col1 {\n",
       "  background-color: #4e68d8;\n",
       "  color: #f1f1f1;\n",
       "}\n",
       "#T_494d5_row4_col2 {\n",
       "  background-color: #4257c9;\n",
       "  color: #f1f1f1;\n",
       "}\n",
       "</style>\n",
       "<table id=\"T_494d5\">\n",
       "  <thead>\n",
       "    <tr>\n",
       "      <th class=\"blank level0\" >&nbsp;</th>\n",
       "      <th id=\"T_494d5_level0_col0\" class=\"col_heading level0 col0\" >Avg_Daily_Usage_Hours</th>\n",
       "      <th id=\"T_494d5_level0_col1\" class=\"col_heading level0 col1\" >Sleep_Hours_Per_Night</th>\n",
       "      <th id=\"T_494d5_level0_col2\" class=\"col_heading level0 col2\" >Mental_Health_Score</th>\n",
       "      <th id=\"T_494d5_level0_col3\" class=\"col_heading level0 col3\" >Addicted_Score</th>\n",
       "      <th id=\"T_494d5_level0_col4\" class=\"col_heading level0 col4\" >Conflicts_Over_Social_Media</th>\n",
       "    </tr>\n",
       "  </thead>\n",
       "  <tbody>\n",
       "    <tr>\n",
       "      <th id=\"T_494d5_level0_row0\" class=\"row_heading level0 row0\" >Avg_Daily_Usage_Hours</th>\n",
       "      <td id=\"T_494d5_row0_col0\" class=\"data row0 col0\" >1.000000</td>\n",
       "      <td id=\"T_494d5_row0_col1\" class=\"data row0 col1\" >-0.790582</td>\n",
       "      <td id=\"T_494d5_row0_col2\" class=\"data row0 col2\" >-0.801058</td>\n",
       "      <td id=\"T_494d5_row0_col3\" class=\"data row0 col3\" >0.832000</td>\n",
       "      <td id=\"T_494d5_row0_col4\" class=\"data row0 col4\" >0.804582</td>\n",
       "    </tr>\n",
       "    <tr>\n",
       "      <th id=\"T_494d5_level0_row1\" class=\"row_heading level0 row1\" >Sleep_Hours_Per_Night</th>\n",
       "      <td id=\"T_494d5_row1_col0\" class=\"data row1 col0\" >-0.790582</td>\n",
       "      <td id=\"T_494d5_row1_col1\" class=\"data row1 col1\" >1.000000</td>\n",
       "      <td id=\"T_494d5_row1_col2\" class=\"data row1 col2\" >0.707439</td>\n",
       "      <td id=\"T_494d5_row1_col3\" class=\"data row1 col3\" >-0.764858</td>\n",
       "      <td id=\"T_494d5_row1_col4\" class=\"data row1 col4\" >-0.677266</td>\n",
       "    </tr>\n",
       "    <tr>\n",
       "      <th id=\"T_494d5_level0_row2\" class=\"row_heading level0 row2\" >Mental_Health_Score</th>\n",
       "      <td id=\"T_494d5_row2_col0\" class=\"data row2 col0\" >-0.801058</td>\n",
       "      <td id=\"T_494d5_row2_col1\" class=\"data row2 col1\" >0.707439</td>\n",
       "      <td id=\"T_494d5_row2_col2\" class=\"data row2 col2\" >1.000000</td>\n",
       "      <td id=\"T_494d5_row2_col3\" class=\"data row2 col3\" >-0.945051</td>\n",
       "      <td id=\"T_494d5_row2_col4\" class=\"data row2 col4\" >-0.893572</td>\n",
       "    </tr>\n",
       "    <tr>\n",
       "      <th id=\"T_494d5_level0_row3\" class=\"row_heading level0 row3\" >Addicted_Score</th>\n",
       "      <td id=\"T_494d5_row3_col0\" class=\"data row3 col0\" >0.832000</td>\n",
       "      <td id=\"T_494d5_row3_col1\" class=\"data row3 col1\" >-0.764858</td>\n",
       "      <td id=\"T_494d5_row3_col2\" class=\"data row3 col2\" >-0.945051</td>\n",
       "      <td id=\"T_494d5_row3_col3\" class=\"data row3 col3\" >1.000000</td>\n",
       "      <td id=\"T_494d5_row3_col4\" class=\"data row3 col4\" >0.933586</td>\n",
       "    </tr>\n",
       "    <tr>\n",
       "      <th id=\"T_494d5_level0_row4\" class=\"row_heading level0 row4\" >Conflicts_Over_Social_Media</th>\n",
       "      <td id=\"T_494d5_row4_col0\" class=\"data row4 col0\" >0.804582</td>\n",
       "      <td id=\"T_494d5_row4_col1\" class=\"data row4 col1\" >-0.677266</td>\n",
       "      <td id=\"T_494d5_row4_col2\" class=\"data row4 col2\" >-0.893572</td>\n",
       "      <td id=\"T_494d5_row4_col3\" class=\"data row4 col3\" >0.933586</td>\n",
       "      <td id=\"T_494d5_row4_col4\" class=\"data row4 col4\" >1.000000</td>\n",
       "    </tr>\n",
       "  </tbody>\n",
       "</table>\n"
      ],
      "text/plain": [
       "<pandas.io.formats.style.Styler at 0x1fc7d0a8d70>"
      ]
     },
     "execution_count": 13,
     "metadata": {},
     "output_type": "execute_result"
    }
   ],
   "source": [
    "# Heatmap to see if there is a correlation between different variables\n",
    "num_cols = [\"Avg_Daily_Usage_Hours\",\"Sleep_Hours_Per_Night\",\"Mental_Health_Score\",\"Addicted_Score\",\"Conflicts_Over_Social_Media\"]\n",
    "corr = df[num_cols].corr()\n",
    "corr.style.background_gradient(cmap = \"coolwarm\")"
   ]
  },
  {
   "cell_type": "markdown",
   "id": "c310bed5",
   "metadata": {},
   "source": [
    "- The heatmap suggests that **higher average daily usage is strongly linked with less sleep and poorer mental health condition**.\n",
    "The addiction scores are highly correlated with conflicts, **suggesting real world social issues**.\n",
    "Since mental health and sleep are correlated, **encouraging healthy sleep could improve mental health**."
   ]
  },
  {
   "cell_type": "code",
   "execution_count": 32,
   "id": "83fd22e5",
   "metadata": {},
   "outputs": [
    {
     "name": "stdout",
     "output_type": "stream",
     "text": [
      "risk_level\n",
      "High Risk        6.081494\n",
      "Moderate Risk    4.022980\n",
      "Low Risk         1.500000\n",
      "Name: Avg_Daily_Usage_Hours, dtype: float64 \n",
      "\n"
     ]
    },
    {
     "data": {
      "image/png": "[encoded data removed]",
      "text/plain": [
       "<Figure size 600x400 with 1 Axes>"
      ]
     },
     "metadata": {},
     "output_type": "display_data"
    }
   ],
   "source": [
    "risk_level_chart = df.groupby('risk_level')['Avg_Daily_Usage_Hours'].mean().sort_values(ascending = False)\n",
    "print(risk_level_chart,\"\\n\")\n",
    "\n",
    "# Plotting a Horizontal Bar Chart\n",
    "risk_level_chart.plot(kind = 'barh', figsize = (6, 4), color = ['darkred', 'gold', 'mediumseagreen'])\n",
    "plt.title('Average Daily Usage by Risk Levels')\n",
    "plt.ylabel('Risk Levels')\n",
    "plt.xlabel('Average Daily Usage (Hours)')\n",
    "plt.gca().invert_yaxis() # Invert Y-axis to show High Risk Levels at the top\n",
    "plt.show()"
   ]
  },
  {
   "cell_type": "markdown",
   "id": "8606a370",
   "metadata": {},
   "source": [
    "- As per the analysis it is clear that the students who fall under the **High Risk** category has a daily average usage of **6 Hours.**<br>\n",
    "- Students falling under **Moderate Risk** category has a daily average usage of **4 Hours**\n",
    "- While students who are at **Low Risk** spend **1.5 Hours** daily on Social Media."
   ]
  },
  {
   "cell_type": "code",
   "execution_count": null,
   "id": "f9ab2810",
   "metadata": {},
   "outputs": [
    {
     "name": "stdout",
     "output_type": "stream",
     "text": [
      "Average Daily Usage by Gender\n",
      "Gender\n",
      "Female    5.011048\n",
      "Male      4.826136\n",
      "Name: Avg_Daily_Usage_Hours, dtype: float64 \n",
      "\n",
      "Average Daily Usage by Age Groups\n",
      "Age Group\n",
      "18 - 20    5.039474\n",
      "21 - 22    4.817492\n",
      "23 - 24    4.741667\n",
      "25 - 26         NaN\n",
      "27 - 28         NaN\n",
      "Name: Avg_Daily_Usage_Hours, dtype: float64 \n",
      "\n",
      "Average Daily Usage by Education Levels\n",
      "Academic_Level\n",
      "Graduate         4.776923\n",
      "High School      5.544444\n",
      "Undergraduate    5.001416\n",
      "Name: Avg_Daily_Usage_Hours, dtype: float64 \n",
      "\n",
      "Addiction Scores By Platform\n",
      "Most_Used_Platform\n",
      "WhatsApp     6.475926\n",
      "TikTok       5.346104\n",
      "Snapchat     5.092308\n",
      "WeChat       4.960000\n",
      "Instagram    4.872289\n",
      "Twitter      4.870000\n",
      "KakaoTalk    4.725000\n",
      "Facebook     4.507317\n",
      "VKontakte    4.250000\n",
      "YouTube      4.080000\n",
      "LINE         3.250000\n",
      "LinkedIn     2.519048\n",
      "Name: Avg_Daily_Usage_Hours, dtype: float64 \n",
      "\n",
      "Average Daily Usage by Risk Levels\n",
      "risk_level\n",
      "High Risk        6.081494\n",
      "Low Risk         1.500000\n",
      "Moderate Risk    4.022980\n",
      "Name: Avg_Daily_Usage_Hours, dtype: float64 \n",
      "\n"
     ]
    },
    {
     "name": "stderr",
     "output_type": "stream",
     "text": [
      "C:\\Users\\Win11\\AppData\\Local\\Temp\\ipykernel_14512\\442598130.py:5: FutureWarning: The default of observed=False is deprecated and will be changed to True in a future version of pandas. Pass observed=False to retain current behavior or observed=True to adopt the future default and silence this warning.\n",
      "  print(df.groupby('Age Group')['Avg_Daily_Usage_Hours'].mean(), \"\\n\")\n"
     ]
    },
    {
     "data": {
      "image/png": "[encoded data removed]",
      "text/plain": [
       "<Figure size 600x400 with 1 Axes>"
      ]
     },
     "metadata": {},
     "output_type": "display_data"
    },
    {
     "data": {
      "image/png": "[encoded data removed]",
      "text/plain": [
       "<Figure size 600x400 with 1 Axes>"
      ]
     },
     "metadata": {},
     "output_type": "display_data"
    }
   ],
   "source": [
    "print(\"Average Daily Usage by Gender\")\n",
    "print(df.groupby('Gender')['Avg_Daily_Usage_Hours'].mean(), \"\\n\")\n",
    "\n",
    "print(\"Average Daily Usage by Age Groups\")\n",
    "print(df.groupby('Age Group')['Avg_Daily_Usage_Hours'].mean(), \"\\n\") \n",
    "\n",
    "print(\"Average Daily Usage by Education Levels\")\n",
    "print(df.groupby('Academic_Level')['Avg_Daily_Usage_Hours'].mean(), \"\\n\")\n",
    "\n",
    "print(\"Addiction Scores By Platform\")\n",
    "sorted_usage = df.groupby('Most_Used_Platform')['Avg_Daily_Usage_Hours'].mean().sort_values(ascending = False)\n",
    "print(sorted_usage, \"\\n\")\n",
    "\n",
    "# Top 5 Countries by Average Daily Usage\n",
    "country_usage = df.groupby('Country')['Avg_Daily_Usage_Hours'].mean().sort_values(ascending = False)\n",
    "top_5 = country_usage.head(5).iloc[::-1] #Reversing the order\n",
    "\n",
    "# Plotting the Chart for Top 5 Countries\n",
    "top_5.plot(kind = 'barh', figsize = (6,4), color = \"yellowgreen\")\n",
    "plt.title(\"Top 5 Countries By Usage\")\n",
    "plt.xlabel(\"Average Daily Usage in Hours\")\n",
    "plt.ylabel(\"Country\")\n",
    "plt.show()\n",
    "\n",
    "\n",
    "\n",
    "# Bottom 5 Countries by Daily Average Usage\n",
    "bott_coun_usage = df.groupby('Country')['Avg_Daily_Usage_Hours'].mean().sort_values(ascending = False)\n",
    "bott_5 = bott_coun_usage.tail(5).iloc[::-1] #Reversing the order\n",
    "\n",
    "# Plotting the Chart for Bottom 5 Countries \n",
    "bott_5.plot(kind = 'barh', figsize = (6,4), color = \"firebrick\")\n",
    "plt.title(\"Bottom 5 Countries By Usage\")\n",
    "plt.xlabel(\"Average Daily Usage by Hours\")\n",
    "plt.ylabel(\"Country\")\n",
    "plt.show()\n"
   ]
  },
  {
   "cell_type": "markdown",
   "id": "500e0376",
   "metadata": {},
   "source": [
    "- The Social Media Usage between the Genders is almost the same with **Male Users having slightly more engagement** than the Female Users.<br>\n",
    "- In the Age Group of **18 to 20 years** highest average daily usage is observed and the further we go up the age groups the average usage tends to decline slowly.<br>\n",
    "- While analyzing the usage of the students based on the Education Levels **High School Students** emergerged as the highest users among all. This can be further linked to the 18 to 20 years age group as the higest daily average users.<br>\n",
    "- **Whatsapp, TikTok and Snapchat** are the Top 3 Social Media Platforms that has the highest engagement in the respective order, with **Whatsapp** averaging at around **6.5 Hours** of daily average usage.\n",
    "- Students from **USA** are spending the most time on Social Media at about close to **7 Hours** of average daily usage which is the highest while students from **Sweden** spending the least amount of time on Social Media at about **2 Hours** of daily average usage.\n"
   ]
  },
  {
   "cell_type": "code",
   "execution_count": 19,
   "id": "6eb94fcb",
   "metadata": {},
   "outputs": [
    {
     "name": "stdout",
     "output_type": "stream",
     "text": [
      "Affects_Academic_Performance\n",
      "No     3.804365\n",
      "Yes    5.538631\n",
      "Name: Avg_Daily_Usage_Hours, dtype: float64\n"
     ]
    },
    {
     "data": {
      "image/png": "[encoded data removed]",
      "text/plain": [
       "<Figure size 600x400 with 1 Axes>"
      ]
     },
     "metadata": {},
     "output_type": "display_data"
    }
   ],
   "source": [
    "# Grouping with respect to affect on Academic Performance\n",
    "affect = df.groupby('Affects_Academic_Performance')['Avg_Daily_Usage_Hours'].mean()\n",
    "print(affect)\n",
    "\n",
    "# Plotting a Pie Chart\n",
    "\n",
    "plt.figure(figsize = (6, 4))\n",
    "plt.pie(affect, labels = affect.index, autopct = '%1.1f%%')\n",
    "plt.title(\"Affect on Academic Performance by Average Daily Usage\")\n",
    "plt.show()"
   ]
  },
  {
   "cell_type": "markdown",
   "id": "b05c981c",
   "metadata": {},
   "source": [
    "- It is clear the excessive use of Social Media **Negetively** affects mojority of the student's academic performance with **59.3%**.<br>\n",
    "While **40.7%** of the students feels that Social Media doen not affects their acdemic performance."
   ]
  },
  {
   "cell_type": "code",
   "execution_count": 50,
   "id": "84157363",
   "metadata": {},
   "outputs": [
    {
     "name": "stdout",
     "output_type": "stream",
     "text": [
      "Average Daily Usage by Relationship Status\n",
      "Relationship_Status\n",
      "Complicated        4.721875\n",
      "In Relationship    4.930796\n",
      "Single             4.926042\n",
      "Name: Avg_Daily_Usage_Hours, dtype: float64 \n",
      "\n"
     ]
    },
    {
     "data": {
      "image/png": "[encoded data removed]",
      "text/plain": [
       "<Figure size 600x400 with 1 Axes>"
      ]
     },
     "metadata": {},
     "output_type": "display_data"
    }
   ],
   "source": [
    "# Grouping with respect to relationship status\n",
    "print(\"Average Daily Usage by Relationship Status\")\n",
    "relation_status = df.groupby('Relationship_Status')[\"Avg_Daily_Usage_Hours\"].mean()\n",
    "print(relation_status, \"\\n\")\n",
    "\n",
    "# Plotting the Chart\n",
    "relation_status.plot(kind = 'bar', figsize = (6, 4), color = \"skyblue\")\n",
    "plt.title(\"Average Daily Usage by Relationship Status\")\n",
    "plt.xlabel(\"Relationship Status\")\n",
    "plt.ylabel(\"Average Daily Usage (Hours)\")\n",
    "plt.show()"
   ]
  },
  {
   "cell_type": "markdown",
   "id": "76156948",
   "metadata": {},
   "source": [
    "- All the students have almost equal engagement in Social Media suggesting **NO IMPACT** with regards to their Relationship Status. Almost everyone spends roughly **5 Hours** daily on various Social Media Platforms."
   ]
  },
  {
   "cell_type": "code",
   "execution_count": 16,
   "id": "b75c7750",
   "metadata": {},
   "outputs": [
    {
     "data": {
      "text/html": [
       "<div>\n",
       "<style scoped>\n",
       "    .dataframe tbody tr th:only-of-type {\n",
       "        vertical-align: middle;\n",
       "    }\n",
       "\n",
       "    .dataframe tbody tr th {\n",
       "        vertical-align: top;\n",
       "    }\n",
       "\n",
       "    .dataframe thead th {\n",
       "        text-align: right;\n",
       "    }\n",
       "</style>\n",
       "<table border=\"1\" class=\"dataframe\">\n",
       "  <thead>\n",
       "    <tr style=\"text-align: right;\">\n",
       "      <th></th>\n",
       "      <th>Student_ID</th>\n",
       "      <th>Avg_Daily_Usage_Hours</th>\n",
       "      <th>risk_level</th>\n",
       "      <th>Detox_Advice</th>\n",
       "    </tr>\n",
       "  </thead>\n",
       "  <tbody>\n",
       "    <tr>\n",
       "      <th>0</th>\n",
       "      <td>1</td>\n",
       "      <td>5.2</td>\n",
       "      <td>High Risk</td>\n",
       "      <td>Avoid using phones before bed. | Engage in Offline Activities like reading or excercising.</td>\n",
       "    </tr>\n",
       "    <tr>\n",
       "      <th>1</th>\n",
       "      <td>2</td>\n",
       "      <td>2.1</td>\n",
       "      <td>Moderate Risk</td>\n",
       "      <td>Set daily limits on Social Media usage to 30 minutes</td>\n",
       "    </tr>\n",
       "    <tr>\n",
       "      <th>2</th>\n",
       "      <td>3</td>\n",
       "      <td>6.0</td>\n",
       "      <td>High Risk</td>\n",
       "      <td>Avoid using phones before bed. | Engage in Offline Activities like reading or excercising.</td>\n",
       "    </tr>\n",
       "    <tr>\n",
       "      <th>3</th>\n",
       "      <td>4</td>\n",
       "      <td>3.0</td>\n",
       "      <td>Moderate Risk</td>\n",
       "      <td>Set daily limits on Social Media usage to 30 minutes</td>\n",
       "    </tr>\n",
       "    <tr>\n",
       "      <th>4</th>\n",
       "      <td>5</td>\n",
       "      <td>4.5</td>\n",
       "      <td>Moderate Risk</td>\n",
       "      <td>Set daily limits on Social Media usage to 30 minutes</td>\n",
       "    </tr>\n",
       "    <tr>\n",
       "      <th>5</th>\n",
       "      <td>6</td>\n",
       "      <td>7.2</td>\n",
       "      <td>High Risk</td>\n",
       "      <td>Avoid using phones before bed. | Engage in Offline Activities like reading or excercising.</td>\n",
       "    </tr>\n",
       "    <tr>\n",
       "      <th>6</th>\n",
       "      <td>7</td>\n",
       "      <td>1.5</td>\n",
       "      <td>Low Risk</td>\n",
       "      <td>Maintain Healthy Digital Habits</td>\n",
       "    </tr>\n",
       "    <tr>\n",
       "      <th>7</th>\n",
       "      <td>8</td>\n",
       "      <td>5.8</td>\n",
       "      <td>High Risk</td>\n",
       "      <td>Avoid using phones before bed. | Engage in Offline Activities like reading or excercising.</td>\n",
       "    </tr>\n",
       "    <tr>\n",
       "      <th>8</th>\n",
       "      <td>9</td>\n",
       "      <td>4.0</td>\n",
       "      <td>Moderate Risk</td>\n",
       "      <td>Set daily limits on Social Media usage to 30 minutes</td>\n",
       "    </tr>\n",
       "    <tr>\n",
       "      <th>9</th>\n",
       "      <td>10</td>\n",
       "      <td>3.3</td>\n",
       "      <td>Moderate Risk</td>\n",
       "      <td>Set daily limits on Social Media usage to 30 minutes</td>\n",
       "    </tr>\n",
       "  </tbody>\n",
       "</table>\n",
       "</div>"
      ],
      "text/plain": [
       "   Student_ID  Avg_Daily_Usage_Hours     risk_level  \\\n",
       "0           1                    5.2      High Risk   \n",
       "1           2                    2.1  Moderate Risk   \n",
       "2           3                    6.0      High Risk   \n",
       "3           4                    3.0  Moderate Risk   \n",
       "4           5                    4.5  Moderate Risk   \n",
       "5           6                    7.2      High Risk   \n",
       "6           7                    1.5       Low Risk   \n",
       "7           8                    5.8      High Risk   \n",
       "8           9                    4.0  Moderate Risk   \n",
       "9          10                    3.3  Moderate Risk   \n",
       "\n",
       "                                                                                 Detox_Advice  \n",
       "0  Avoid using phones before bed. | Engage in Offline Activities like reading or excercising.  \n",
       "1                                        Set daily limits on Social Media usage to 30 minutes  \n",
       "2  Avoid using phones before bed. | Engage in Offline Activities like reading or excercising.  \n",
       "3                                        Set daily limits on Social Media usage to 30 minutes  \n",
       "4                                        Set daily limits on Social Media usage to 30 minutes  \n",
       "5  Avoid using phones before bed. | Engage in Offline Activities like reading or excercising.  \n",
       "6                                                             Maintain Healthy Digital Habits  \n",
       "7  Avoid using phones before bed. | Engage in Offline Activities like reading or excercising.  \n",
       "8                                        Set daily limits on Social Media usage to 30 minutes  \n",
       "9                                        Set daily limits on Social Media usage to 30 minutes  "
      ]
     },
     "execution_count": 16,
     "metadata": {},
     "output_type": "execute_result"
    }
   ],
   "source": [
    "# Defining a Function for Detox Strategy\n",
    "\n",
    "def detox_strategy(risk_level):\n",
    "    advice = []\n",
    "    if risk_level == \"High Risk\":\n",
    "        advice.append(\"Avoid using phones before bed.\")\n",
    "        advice.append(\"Engage in Offline Activities like reading or excercising.\")\n",
    "    elif risk_level == \"Moderate Risk\":\n",
    "        advice.append(\"Set daily limits on Social Media usage to 30 minutes\")\n",
    "    else:\n",
    "        advice.append(\"Maintain Healthy Digital Habits\")\n",
    "    return \" | \".join(advice)\n",
    "\n",
    "pd.set_option('display.max_colwidth', None) # Displaying the full length of the Column\n",
    "\n",
    "df[\"Detox_Advice\"] = df['risk_level'].apply(detox_strategy)\n",
    "df[[\"Student_ID\", \"Avg_Daily_Usage_Hours\", \"risk_level\", \"Detox_Advice\"]].head(10)"
   ]
  },
  {
   "cell_type": "markdown",
   "id": "4d6c79c8",
   "metadata": {},
   "source": [
    "The analysis reveals that the **Social Media Addiction** is a significant concern for the students across all parameters with almost all falling into Moderate or High Risk categories. The main cause of such addiction is the number of hours spent on various Social Media Platforms that often exceeds 5 Hours daily.<br> The excessive usage does have cosequences. It is found that the **Younger Students** especially those who are in **High School** are the most extensive users of these platforms, hence making them **more vulnerable**.<br>\n",
    "Our further analysis reveals that excessive usage of these Social Media Platforms is also affecting majority of the students. **59.3%** of the students accept that over usage of Social Media and spending Hours in these platforms are negetively affecting them in their academics. This can make students less productive over time.<br>\n",
    "We also found a **strong link** between higher addiction scores and the declining mental health. As Social Media usage **increases**, the student's **well-being decreases**.<br>\n",
    "In order to address this issue, we have recomemned some approaches that students can follow in order for them to get digitally detoxed and improve their well being."
   ]
  }
 ],
 "metadata": {
  "kernelspec": {
   "display_name": ".venv",
   "language": "python",
   "name": "python3"
  },
  "language_info": {
   "codemirror_mode": {
    "name": "ipython",
    "version": 3
   },
   "file_extension": ".py",
   "mimetype": "text/x-python",
   "name": "python",
   "nbconvert_exporter": "python",
   "pygments_lexer": "ipython3",
   "version": "3.13.6"
  }
 },
 "nbformat": 4,
 "nbformat_minor": 5
}
